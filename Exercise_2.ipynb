{
 "cells": [
  {
   "cell_type": "code",
   "execution_count": null,
   "id": "3ef133a7-f657-4f1d-a531-e22df36de9c1",
   "metadata": {},
   "outputs": [],
   "source": [
    "#Problem 1"
   ]
  },
  {
   "cell_type": "markdown",
   "id": "d6cb328d-9758-455f-a3d4-e0255b981344",
   "metadata": {},
   "source": [
    "Put desired values in the list"
   ]
  },
  {
   "cell_type": "code",
   "execution_count": 14,
   "id": "5605ad17-bc00-4a6d-b953-c6b7b6b30a1d",
   "metadata": {},
   "outputs": [],
   "source": [
    "station_names = ['lighthouse', 'Harmaja', 'Suomenlinna aaltopoiju', 'Kumpula', 'Kaisaniemi']"
   ]
  },
  {
   "cell_type": "code",
   "execution_count": 15,
   "id": "6b08cd64-7b12-48f7-9dd8-37a413dae550",
   "metadata": {},
   "outputs": [],
   "source": [
    "station_start_years = ['2003', '1989', '2016', '2005', '1844']"
   ]
  },
  {
   "cell_type": "markdown",
   "id": "b5f1d55c-e5f1-47f3-b8e3-1cd0acb2956b",
   "metadata": {},
   "source": [
    "Check values in the list"
   ]
  },
  {
   "cell_type": "code",
   "execution_count": 16,
   "id": "85d0ef94-2002-42d5-8401-9a8e5be8bebb",
   "metadata": {},
   "outputs": [
    {
     "data": {
      "text/plain": [
       "5"
      ]
     },
     "execution_count": 16,
     "metadata": {},
     "output_type": "execute_result"
    }
   ],
   "source": [
    "len(station_names)\n",
    "len(station_start_years)"
   ]
  },
  {
   "cell_type": "code",
   "execution_count": 17,
   "id": "50b09a65-d573-4c6d-8769-5422a4667724",
   "metadata": {},
   "outputs": [
    {
     "data": {
      "text/plain": [
       "'lighthouse'"
      ]
     },
     "execution_count": 17,
     "metadata": {},
     "output_type": "execute_result"
    }
   ],
   "source": [
    "station_names [0]"
   ]
  },
  {
   "cell_type": "code",
   "execution_count": 18,
   "id": "c2ebaf3f-816b-4310-b493-b47f49fcdfa9",
   "metadata": {},
   "outputs": [
    {
     "data": {
      "text/plain": [
       "'2003'"
      ]
     },
     "execution_count": 18,
     "metadata": {},
     "output_type": "execute_result"
    }
   ],
   "source": [
    "station_start_years [0]"
   ]
  },
  {
   "cell_type": "markdown",
   "id": "412b36e3-a168-4316-a625-0013a9fe326f",
   "metadata": {},
   "source": [
    "Now it's time to add the new stations from the other table"
   ]
  },
  {
   "cell_type": "code",
   "execution_count": 22,
   "id": "558d8297-40a3-4f56-9c60-7de72b09d82d",
   "metadata": {},
   "outputs": [],
   "source": [
    "station_names.append('Malmi airfield')\n",
    "station_names.append('Vuosaari harbour')\n",
    "station_names.append('Kaivopuisto')"
   ]
  },
  {
   "cell_type": "code",
   "execution_count": 23,
   "id": "f6943b8b-fb6e-4d3d-a13b-b3f833787a80",
   "metadata": {},
   "outputs": [
    {
     "name": "stdout",
     "output_type": "stream",
     "text": [
      "['lighthouse', 'Harmaja', 'Suomenlinna aaltopoiju', 'Kumpula', 'Kaisaniemi', 'Malmi airfield', 'Malmi airfield', 'Malmi airfield', 'Vuosaari harbour', 'Malmi airfield', 'Vuosaari harbour', 'Kaivopuisto']\n"
     ]
    }
   ],
   "source": [
    "print(station_names)"
   ]
  },
  {
   "cell_type": "code",
   "execution_count": 24,
   "id": "1fc5f78b-df1a-4838-b37f-f5bcdbd4959f",
   "metadata": {},
   "outputs": [],
   "source": [
    "del station_names [5]"
   ]
  },
  {
   "cell_type": "code",
   "execution_count": 25,
   "id": "8e6d4774-2414-44f1-a1a1-95a4fa579931",
   "metadata": {},
   "outputs": [],
   "source": [
    "del station_names [5]"
   ]
  },
  {
   "cell_type": "code",
   "execution_count": 26,
   "id": "ddd9a9e4-ec10-4a89-9987-96b74c6ff98a",
   "metadata": {},
   "outputs": [],
   "source": [
    "del station_names [5]"
   ]
  },
  {
   "cell_type": "code",
   "execution_count": 27,
   "id": "31eb6b0b-e443-4ab4-b125-ccb8b0cc7a27",
   "metadata": {},
   "outputs": [],
   "source": [
    "del station_names [5]"
   ]
  },
  {
   "cell_type": "code",
   "execution_count": 28,
   "id": "1c13eef2-a37d-4b66-af88-75214275e1ba",
   "metadata": {},
   "outputs": [
    {
     "name": "stdout",
     "output_type": "stream",
     "text": [
      "['lighthouse', 'Harmaja', 'Suomenlinna aaltopoiju', 'Kumpula', 'Kaisaniemi', 'Malmi airfield', 'Vuosaari harbour', 'Kaivopuisto']\n"
     ]
    }
   ],
   "source": [
    "print(station_names)"
   ]
  },
  {
   "cell_type": "code",
   "execution_count": 29,
   "id": "4a973872-ad9c-4dfc-90f9-38863ca77979",
   "metadata": {},
   "outputs": [],
   "source": [
    "station_start_years.append('1937')\n",
    "station_start_years.append('2012')\n",
    "station_start_years.append('1904')"
   ]
  },
  {
   "cell_type": "code",
   "execution_count": 30,
   "id": "6d76ec6f-21a9-418f-b702-b2a1f4577802",
   "metadata": {},
   "outputs": [
    {
     "name": "stdout",
     "output_type": "stream",
     "text": [
      "['2003', '1989', '2016', '2005', '1844', '1937', '2012', '1904']\n"
     ]
    }
   ],
   "source": [
    "print(station_start_years)"
   ]
  },
  {
   "cell_type": "markdown",
   "id": "bf0e5bca-1768-4162-8c40-d08e61ce9af9",
   "metadata": {},
   "source": [
    "Now we check if the added list contains the expected values"
   ]
  },
  {
   "cell_type": "code",
   "execution_count": 31,
   "id": "17de7a48-3ae5-48d8-a28f-9ed8952862e4",
   "metadata": {},
   "outputs": [
    {
     "data": {
      "text/plain": [
       "8"
      ]
     },
     "execution_count": 31,
     "metadata": {},
     "output_type": "execute_result"
    }
   ],
   "source": [
    "len(station_names)\n",
    "len(station_start_years)"
   ]
  },
  {
   "cell_type": "code",
   "execution_count": 33,
   "id": "99df8956-faf5-4aa2-b16e-7dba4b45fab0",
   "metadata": {},
   "outputs": [
    {
     "data": {
      "text/plain": [
       "'Kaivopuisto'"
      ]
     },
     "execution_count": 33,
     "metadata": {},
     "output_type": "execute_result"
    }
   ],
   "source": [
    "station_names[-1]\n"
   ]
  },
  {
   "cell_type": "code",
   "execution_count": 34,
   "id": "d6415b6b-ae5b-4778-9cc0-5741d6e9e203",
   "metadata": {},
   "outputs": [
    {
     "data": {
      "text/plain": [
       "'1904'"
      ]
     },
     "execution_count": 34,
     "metadata": {},
     "output_type": "execute_result"
    }
   ],
   "source": [
    "station_start_years[-1]"
   ]
  },
  {
   "cell_type": "markdown",
   "id": "fb58f8ba-31d6-4cac-9afa-ee1deff9c4f3",
   "metadata": {},
   "source": [
    "After checking the values, we can sort both of the list based on the desired order"
   ]
  },
  {
   "cell_type": "code",
   "execution_count": 37,
   "id": "d81f8744-aa00-4d6d-b607-05cc6da98c13",
   "metadata": {},
   "outputs": [],
   "source": [
    "station_names.sort()"
   ]
  },
  {
   "cell_type": "code",
   "execution_count": 38,
   "id": "164bbffa-6a0f-42e4-bdb7-5a3185022234",
   "metadata": {},
   "outputs": [
    {
     "name": "stdout",
     "output_type": "stream",
     "text": [
      "['Harmaja', 'Kaisaniemi', 'Kaivopuisto', 'Kumpula', 'Malmi airfield', 'Suomenlinna aaltopoiju', 'Vuosaari harbour', 'lighthouse']\n"
     ]
    }
   ],
   "source": [
    "print(station_names)"
   ]
  },
  {
   "cell_type": "code",
   "execution_count": 39,
   "id": "57e66b7b-706d-4d7c-8629-dda2c585e8ae",
   "metadata": {},
   "outputs": [],
   "source": [
    "station_start_years.sort()"
   ]
  },
  {
   "cell_type": "code",
   "execution_count": 40,
   "id": "be672f63-fc48-430b-be97-627ec3ee85f6",
   "metadata": {},
   "outputs": [
    {
     "name": "stdout",
     "output_type": "stream",
     "text": [
      "['1844', '1904', '1937', '1989', '2003', '2005', '2012', '2016']\n"
     ]
    }
   ],
   "source": [
    "print(station_start_years)"
   ]
  },
  {
   "cell_type": "code",
   "execution_count": 41,
   "id": "677bcb49-1fb2-4622-9cf1-8285ff1508c5",
   "metadata": {},
   "outputs": [],
   "source": [
    "station_start_years.reverse()"
   ]
  },
  {
   "cell_type": "code",
   "execution_count": 42,
   "id": "009cfd12-d0d8-4086-adb5-ccad7ce4c850",
   "metadata": {},
   "outputs": [
    {
     "name": "stdout",
     "output_type": "stream",
     "text": [
      "['2016', '2012', '2005', '2003', '1989', '1937', '1904', '1844']\n"
     ]
    }
   ],
   "source": [
    "print(station_start_years)"
   ]
  },
  {
   "cell_type": "markdown",
   "id": "533ce496-4bc5-4128-87ae-69af44efd844",
   "metadata": {},
   "source": [
    "After sorting the lists, we check what the first value ([0]) is"
   ]
  },
  {
   "cell_type": "code",
   "execution_count": 43,
   "id": "c9bf2292-ddb0-4dd6-84cd-edf64a5df504",
   "metadata": {},
   "outputs": [
    {
     "data": {
      "text/plain": [
       "'Harmaja'"
      ]
     },
     "execution_count": 43,
     "metadata": {},
     "output_type": "execute_result"
    }
   ],
   "source": [
    "station_names[0]"
   ]
  },
  {
   "cell_type": "code",
   "execution_count": 44,
   "id": "81408f08-93e6-41dd-97cd-db8bad87e61d",
   "metadata": {},
   "outputs": [
    {
     "data": {
      "text/plain": [
       "'2016'"
      ]
     },
     "execution_count": 44,
     "metadata": {},
     "output_type": "execute_result"
    }
   ],
   "source": [
    "station_start_years[0]"
   ]
  },
  {
   "cell_type": "markdown",
   "id": "5361ed6f-1d8d-4088-a5e1-80866c56c558",
   "metadata": {},
   "source": [
    "'lighthouse' is used without a capital letter. If we use 'lighthouse' with a lower case letter, this would modify the position in the sorted list as python prioritizes capital letters"
   ]
  },
  {
   "cell_type": "code",
   "execution_count": 45,
   "id": "0b671357-d44b-4f69-90aa-6f4912b09515",
   "metadata": {},
   "outputs": [],
   "source": [
    "#Problem 2"
   ]
  },
  {
   "cell_type": "markdown",
   "id": "6b3cf432-a6b3-4f06-9ced-636dd025e63b",
   "metadata": {},
   "source": [
    "First, create two separate lists of months and average temperature"
   ]
  },
  {
   "cell_type": "code",
   "execution_count": 2,
   "id": "d42a221d-1f64-44ca-8f21-179e3ceb2930",
   "metadata": {},
   "outputs": [],
   "source": [
    "months = ['January', 'February', 'March', 'April', 'May', 'June', 'July', 'August', 'September', 'October', 'November', 'December']"
   ]
  },
  {
   "cell_type": "code",
   "execution_count": 3,
   "id": "3b4c77dd-7b36-4dcd-868e-1b78df7a0ec8",
   "metadata": {},
   "outputs": [],
   "source": [
    "average_temp = ['-3.5', '-4.5', '-1.0', '4.0', '10.0', '15.0', '18.0', '16.0', '11.5', '6.0', '2.0', '-1.5']"
   ]
  },
  {
   "cell_type": "code",
   "execution_count": 4,
   "id": "40cccd4f-5ee2-42a9-87f9-7cab0dce471b",
   "metadata": {},
   "outputs": [
    {
     "data": {
      "text/plain": [
       "True"
      ]
     },
     "execution_count": 4,
     "metadata": {},
     "output_type": "execute_result"
    }
   ],
   "source": [
    "len(months) == 12"
   ]
  },
  {
   "cell_type": "code",
   "execution_count": 49,
   "id": "6e659ea1-3236-4cc2-af18-bd1275d190a5",
   "metadata": {},
   "outputs": [
    {
     "data": {
      "text/plain": [
       "12"
      ]
     },
     "execution_count": 49,
     "metadata": {},
     "output_type": "execute_result"
    }
   ],
   "source": [
    "len(average_temp)"
   ]
  },
  {
   "cell_type": "markdown",
   "id": "eeffeeb8-6865-4281-a2ed-292ed56ebe1f",
   "metadata": {},
   "source": [
    "Now we make a variable selected_month_index which then can be used in the f string to select a number between 0 and 11 based on the desired month"
   ]
  },
  {
   "cell_type": "code",
   "execution_count": 6,
   "id": "c116084d-d69b-4daa-a79d-29c2a3f66be4",
   "metadata": {},
   "outputs": [],
   "source": [
    "selected_month_index = (0)"
   ]
  },
  {
   "cell_type": "code",
   "execution_count": 7,
   "id": "b92db6ae-4e34-46f2-b3c5-cd250e5dd058",
   "metadata": {},
   "outputs": [],
   "source": [
    "print_statement = f'The average temperature in Helsinki in {months[selected_month_index]} is {average_temp[selected_month_index]}'"
   ]
  },
  {
   "cell_type": "code",
   "execution_count": 8,
   "id": "d64dca56-3e73-4f54-9bd8-3f5d76582f34",
   "metadata": {},
   "outputs": [
    {
     "name": "stdout",
     "output_type": "stream",
     "text": [
      "The average temperature in Helsinki in January is -3.5\n"
     ]
    }
   ],
   "source": [
    "print(print_statement)"
   ]
  },
  {
   "cell_type": "code",
   "execution_count": 10,
   "id": "6c4d31d9-8f39-4a0c-9a59-d6c5850c0baf",
   "metadata": {},
   "outputs": [
    {
     "data": {
      "text/plain": [
       "True"
      ]
     },
     "execution_count": 10,
     "metadata": {},
     "output_type": "execute_result"
    }
   ],
   "source": [
    "isinstance(months, list)"
   ]
  },
  {
   "cell_type": "code",
   "execution_count": 11,
   "id": "8edb9abd-4eb1-48e7-8f43-aa3eca41d9d6",
   "metadata": {},
   "outputs": [
    {
     "data": {
      "text/plain": [
       "True"
      ]
     },
     "execution_count": 11,
     "metadata": {},
     "output_type": "execute_result"
    }
   ],
   "source": [
    "isinstance(average_temp, list)"
   ]
  },
  {
   "cell_type": "code",
   "execution_count": 12,
   "id": "8dc8b233-843d-4074-a1cd-02864fe2edfa",
   "metadata": {},
   "outputs": [],
   "source": [
    "selected_month_index = (6)"
   ]
  },
  {
   "cell_type": "code",
   "execution_count": 13,
   "id": "3802f376-f2da-466c-80a6-e39f2d02f2e8",
   "metadata": {},
   "outputs": [],
   "source": [
    "print_statement = f'The average temperature in Helsinki in {months[selected_month_index]} is {average_temp[selected_month_index]}'"
   ]
  },
  {
   "cell_type": "code",
   "execution_count": 14,
   "id": "b3d1e2df-bf40-48ce-aecc-4d90260cbaa2",
   "metadata": {},
   "outputs": [
    {
     "name": "stdout",
     "output_type": "stream",
     "text": [
      "The average temperature in Helsinki in July is 18.0\n"
     ]
    }
   ],
   "source": [
    "print(print_statement)"
   ]
  },
  {
   "cell_type": "code",
   "execution_count": null,
   "id": "96972345-680b-451a-81f2-2c17c875a436",
   "metadata": {},
   "outputs": [],
   "source": [
    "#Problem 3"
   ]
  },
  {
   "cell_type": "markdown",
   "id": "4ca6ad6b-66e4-47cd-bb28-e8880c08923f",
   "metadata": {},
   "source": [
    "What did you learn?"
   ]
  },
  {
   "cell_type": "markdown",
   "id": "081f94cb-9238-4887-a8ff-c3e7760290b9",
   "metadata": {},
   "source": [
    "We improved our knowledge about handling lists in python. Knowing how to add, remove or change the order of the list can come in handy when writing future assignments or programmes in python. Additionally, the second problem taught us how to put this knowledge into action. Also, we got more familiar with using an f-string, which we both thought was pretty difficult at first."
   ]
  },
  {
   "cell_type": "markdown",
   "id": "65507c0b-ef2d-4fce-aebe-8d02bde3a4c4",
   "metadata": {},
   "source": [
    "What was unclear?"
   ]
  },
  {
   "cell_type": "markdown",
   "id": "e592090c-5153-4ad6-8379-8fe0c000f9cf",
   "metadata": {},
   "source": [
    "I wouldn't go as far as saying anything in the exercises was unclear, however we did encouter trouble with the selected_month_index. We had to find a way to connect values of the months list to the values of the temperature list. With our newly acquired programming skills and some help on the slack channel we managed to do it. Connecting notebook to GitHub was maybe a bit unclear, but that might be because neither one of us is familiar with GitHub."
   ]
  },
  {
   "cell_type": "markdown",
   "id": "ccf43793-0b06-4f28-bcfc-74f979c378da",
   "metadata": {},
   "source": [
    "What would you change about the lesson?"
   ]
  },
  {
   "cell_type": "markdown",
   "id": "743f6115-fe21-4f70-a690-f3e11d756447",
   "metadata": {},
   "source": [
    "We would change nothing about the assignment. Especially the second exercise tested us nicely. Not giving step-by-step instructions was a good way for us to really understand what we are doing and how we could solve a problem. More than a step-by-step description of what to do."
   ]
  },
  {
   "cell_type": "markdown",
   "id": "47665257-f941-47d4-8291-2cb02c3d11ba",
   "metadata": {},
   "source": [
    "![](capybara-4254528_1920.jpg)"
   ]
  },
  {
   "cell_type": "markdown",
   "id": "b3e510c7-b4cd-481e-a24c-cb018fa9dea3",
   "metadata": {},
   "source": [
    "This animal is a capybara. It is the largest rodent on the planet, and it lives primarily in South-America. It feeds on plants and grass. We like this animal because it pretty much does nothing all day except for eating and sleeping. The pinnacle of evolution!"
   ]
  },
  {
   "cell_type": "code",
   "execution_count": null,
   "id": "b162c2fe-5225-4f57-bf7e-14e676e4db02",
   "metadata": {},
   "outputs": [],
   "source": []
  }
 ],
 "metadata": {
  "kernelspec": {
   "display_name": "Python 3 (ipykernel)",
   "language": "python",
   "name": "python3"
  },
  "language_info": {
   "codemirror_mode": {
    "name": "ipython",
    "version": 3
   },
   "file_extension": ".py",
   "mimetype": "text/x-python",
   "name": "python",
   "nbconvert_exporter": "python",
   "pygments_lexer": "ipython3",
   "version": "3.8.10"
  }
 },
 "nbformat": 4,
 "nbformat_minor": 5
}
